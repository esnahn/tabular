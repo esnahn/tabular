{
 "cells": [
  {
   "cell_type": "code",
   "execution_count": 9,
   "metadata": {},
   "outputs": [
    {
     "name": "stdout",
     "output_type": "stream",
     "text": [
      "census_track,log_firetol,log_pop,log_bul,firetol_res,onehou_rate,divo_rate,weak_rate,old_in,basic_prat,basci_hrat,pop_den,in_rate,out_rate,cr_tot,cr_mur,cr_rob,cr_sex,cr_viol,cr_bur,sal_in,uempl_rate,land_val,house_mo,bul_old,bul_oldr,bul_hou,bul_com,bul_5und,bul_den,area_km2\n",
      "\n",
      "1.10105E+13,2.079441542,5.900445149,5.480638923,1.017763905,40.031,1.51,30.697,256.64,1.2,2.6,4927.8,17.5,17.9,106,0,0,3,54,49,9,4.127,4663031.7,6.52,191,79.92,38.9,58.2,100,3233.8,0.073907202\n",
      "\n",
      "1.10105E+13,2.302585093,6.184561177,5.342334252,1.254697935,38.805,1.51,37.092,277.42,1.2,2.6,11089.08,17.5,17.9,260,1,0,16,160,83,9,4.136,3970617,6.134,165,79.33,43.3,56.3,97.6,4763.6,0.043664528\n",
      "\n"
     ]
    }
   ],
   "source": [
    "with open(\"data/전체화재.csv\", \"r\") as t:\n",
    "    for i in range(3):\n",
    "        print(t.readline())"
   ]
  },
  {
   "cell_type": "code",
   "execution_count": 10,
   "metadata": {},
   "outputs": [
    {
     "name": "stdout",
     "output_type": "stream",
     "text": [
      "All required columns are present in the CSV.\n",
      "Extra columns in the CSV: ['census_track', 'log_firetol', 'log_pop', 'log_bul', 'area_km2']\n"
     ]
    }
   ],
   "source": [
    "import pandas as pd\n",
    "\n",
    "# Load the CSV\n",
    "file_path = \"data/전체화재.csv\"  # Replace with your actual file path\n",
    "data = pd.read_csv(file_path)\n",
    "\n",
    "# Dependent variable\n",
    "dependent_var = \"firetol_res\"\n",
    "\n",
    "# Independent variables\n",
    "independent_vars = [\n",
    "    \"onehou_rate\", \"divo_rate\", \"weak_rate\", \"old_in\", \"uempl_rate\", \n",
    "    \"basic_prat\", \"basci_hrat\", \"sal_in\", \"pop_den\", \"in_rate\", \n",
    "    \"out_rate\", \"land_val\", \"house_mo\", \"cr_tot\", \"cr_mur\", \n",
    "    \"cr_rob\", \"cr_sex\", \"cr_viol\", \"cr_bur\", \"bul_old\", \n",
    "    \"bul_oldr\", \"bul_hou\", \"bul_com\", \"bul_5und\", \"bul_den\"\n",
    "]\n",
    "\n",
    "# Check if all columns are in the CSV\n",
    "\n",
    "columns_to_check = [dependent_var]+independent_vars\n",
    "missing_columns = [col for col in columns_to_check if col not in data.columns]\n",
    "extra_columns = [col for col in data.columns if col not in columns_to_check]\n",
    "\n",
    "\n",
    "if not missing_columns:\n",
    "    print(\"All required columns are present in the CSV.\")\n",
    "else:\n",
    "    print(\"Missing columns:\", missing_columns)\n",
    "\n",
    "if extra_columns:\n",
    "    print(\"Extra columns in the CSV:\", extra_columns)\n",
    "\n",
    "# Extract features and labels\n",
    "X = data[independent_vars]\n",
    "y = data[dependent_var]"
   ]
  },
  {
   "cell_type": "code",
   "execution_count": 4,
   "metadata": {},
   "outputs": [
    {
     "data": {
      "text/plain": [
       "census_track    float64\n",
       "log_firetol     float64\n",
       "log_pop         float64\n",
       "log_bul         float64\n",
       "firetol_res     float64\n",
       "onehou_rate     float64\n",
       "divo_rate       float64\n",
       "weak_rate       float64\n",
       "old_in          float64\n",
       "basic_prat      float64\n",
       "basci_hrat      float64\n",
       "pop_den         float64\n",
       "in_rate         float64\n",
       "out_rate        float64\n",
       "cr_tot            int64\n",
       "cr_mur            int64\n",
       "cr_rob            int64\n",
       "cr_sex            int64\n",
       "cr_viol           int64\n",
       "cr_bur            int64\n",
       "sal_in          float64\n",
       "uempl_rate      float64\n",
       "land_val        float64\n",
       "house_mo        float64\n",
       "bul_old           int64\n",
       "bul_oldr        float64\n",
       "bul_hou         float64\n",
       "bul_com         float64\n",
       "bul_5und        float64\n",
       "bul_den         float64\n",
       "area_km2        float64\n",
       "dtype: object"
      ]
     },
     "execution_count": 4,
     "metadata": {},
     "output_type": "execute_result"
    }
   ],
   "source": [
    "data.dtypes"
   ]
  },
  {
   "cell_type": "code",
   "execution_count": null,
   "metadata": {},
   "outputs": [],
   "source": []
  }
 ],
 "metadata": {
  "kernelspec": {
   "display_name": ".venv",
   "language": "python",
   "name": "python3"
  },
  "language_info": {
   "codemirror_mode": {
    "name": "ipython",
    "version": 3
   },
   "file_extension": ".py",
   "mimetype": "text/x-python",
   "name": "python",
   "nbconvert_exporter": "python",
   "pygments_lexer": "ipython3",
   "version": "3.12.7"
  }
 },
 "nbformat": 4,
 "nbformat_minor": 2
}
